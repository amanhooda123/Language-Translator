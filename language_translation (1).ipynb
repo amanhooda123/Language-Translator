{
  "nbformat": 4,
  "nbformat_minor": 0,
  "metadata": {
    "colab": {
      "name": "language-translation.ipynb",
      "provenance": [],
      "collapsed_sections": []
    },
    "kernelspec": {
      "name": "python3",
      "display_name": "Python 3"
    },
    "accelerator": "GPU"
  },
  "cells": [
    {
      "cell_type": "code",
      "metadata": {
        "id": "HADvHsjrv0WD"
      },
      "source": [
        "import numpy as np"
      ],
      "execution_count": null,
      "outputs": []
    },
    {
      "cell_type": "code",
      "metadata": {
        "id": "s4Vg_iNy_Yrr",
        "colab": {
          "base_uri": "https://localhost:8080/",
          "height": 212
        },
        "outputId": "ba501f74-9afa-4b06-ef8f-8f5e0e51c317"
      },
      "source": [
        "!wget http://www.manythings.org/anki/deu-eng.zip"
      ],
      "execution_count": null,
      "outputs": [
        {
          "output_type": "stream",
          "text": [
            "--2020-07-06 01:31:21--  http://www.manythings.org/anki/deu-eng.zip\n",
            "Resolving www.manythings.org (www.manythings.org)... 104.24.109.196, 104.24.108.196, 172.67.173.198, ...\n",
            "Connecting to www.manythings.org (www.manythings.org)|104.24.109.196|:80... connected.\n",
            "HTTP request sent, awaiting response... 200 OK\n",
            "Length: 8171564 (7.8M) [application/zip]\n",
            "Saving to: ‘deu-eng.zip’\n",
            "\n",
            "deu-eng.zip         100%[===================>]   7.79M  1.88MB/s    in 4.8s    \n",
            "\n",
            "2020-07-06 01:31:26 (1.61 MB/s) - ‘deu-eng.zip’ saved [8171564/8171564]\n",
            "\n"
          ],
          "name": "stdout"
        }
      ]
    },
    {
      "cell_type": "code",
      "metadata": {
        "id": "HKPnvavI_s3_",
        "colab": {
          "base_uri": "https://localhost:8080/",
          "height": 70
        },
        "outputId": "114d9b30-f8ad-4158-eb20-44e967d693ce"
      },
      "source": [
        "!unzip deu-eng.zip"
      ],
      "execution_count": null,
      "outputs": [
        {
          "output_type": "stream",
          "text": [
            "Archive:  deu-eng.zip\n",
            "  inflating: deu.txt                 \n",
            "  inflating: _about.txt              \n"
          ],
          "name": "stdout"
        }
      ]
    },
    {
      "cell_type": "code",
      "metadata": {
        "id": "IbsnewaT_2Aj",
        "colab": {
          "base_uri": "https://localhost:8080/",
          "height": 70
        },
        "outputId": "3d267f3e-54f9-4aef-eef7-7707118b478b"
      },
      "source": [
        "def read_text(filename):\n",
        "  file = open(filename,mode=\"rt\",encoding=\"utf-8\")\n",
        "  text = file.read()\n",
        "  file.close()\n",
        "  return text\n",
        "\n",
        "def to_lines(text):\n",
        "  pairs = text.strip().split('\\n')\n",
        "  sents = [p.split('\\t') for p in pairs]\n",
        "  return sents\n",
        "\n",
        "data = read_text(\"deu.txt\")\n",
        "deu_eng = to_lines(data)\n",
        "deu_eng = np.array(deu_eng)\n",
        "\n",
        "deu_eng[0]\n"
      ],
      "execution_count": null,
      "outputs": [
        {
          "output_type": "execute_result",
          "data": {
            "text/plain": [
              "array(['Go.', 'Geh.',\n",
              "       'CC-BY 2.0 (France) Attribution: tatoeba.org #2877272 (CM) & #8597805 (Roujin)'],\n",
              "      dtype='<U537')"
            ]
          },
          "metadata": {
            "tags": []
          },
          "execution_count": 4
        }
      ]
    },
    {
      "cell_type": "code",
      "metadata": {
        "id": "IfCkaT1iD1H-"
      },
      "source": [
        "deu_eng = deu_eng[:50000,:]"
      ],
      "execution_count": null,
      "outputs": []
    },
    {
      "cell_type": "code",
      "metadata": {
        "id": "ZNKNdIqwELRZ",
        "colab": {
          "base_uri": "https://localhost:8080/",
          "height": 266
        },
        "outputId": "d2ca412a-5bea-4c79-924c-83b44f4924d2"
      },
      "source": [
        "deu_eng"
      ],
      "execution_count": null,
      "outputs": [
        {
          "output_type": "execute_result",
          "data": {
            "text/plain": [
              "array([['Go.', 'Geh.',\n",
              "        'CC-BY 2.0 (France) Attribution: tatoeba.org #2877272 (CM) & #8597805 (Roujin)'],\n",
              "       ['Hi.', 'Hallo!',\n",
              "        'CC-BY 2.0 (France) Attribution: tatoeba.org #538123 (CM) & #380701 (cburgmer)'],\n",
              "       ['Hi.', 'Grüß Gott!',\n",
              "        'CC-BY 2.0 (France) Attribution: tatoeba.org #538123 (CM) & #659813 (Esperantostern)'],\n",
              "       ...,\n",
              "       ['They come from Sweden.', 'Sie kommen aus Schweden.',\n",
              "        'CC-BY 2.0 (France) Attribution: tatoeba.org #622193 (CK) & #622244 (BraveSentry)'],\n",
              "       ['They could hardly see.', 'Sie konnten kaum etwas sehen.',\n",
              "        'CC-BY 2.0 (France) Attribution: tatoeba.org #306021 (CK) & #611800 (virgil)'],\n",
              "       [\"They didn't choose me.\", 'Sie wählten mich nicht.',\n",
              "        'CC-BY 2.0 (France) Attribution: tatoeba.org #5090802 (AlanF_US) & #5091265 (bonny37)']],\n",
              "      dtype='<U537')"
            ]
          },
          "metadata": {
            "tags": []
          },
          "execution_count": 6
        }
      ]
    },
    {
      "cell_type": "code",
      "metadata": {
        "id": "yQS2U17hEL89"
      },
      "source": [
        "import string\n",
        "\n",
        "deu_eng[:,0] = [s.translate(str.maketrans(\"\",\"\",string.punctuation)) for s in deu_eng[:,0]]\n",
        "deu_eng[:,1] = [s.translate(str.maketrans(\"\",\"\",string.punctuation)) for s in deu_eng[:,1]]"
      ],
      "execution_count": null,
      "outputs": []
    },
    {
      "cell_type": "code",
      "metadata": {
        "id": "lNw5tO-FdjRv",
        "colab": {
          "base_uri": "https://localhost:8080/",
          "height": 266
        },
        "outputId": "13dcbb2d-cfe1-4b0e-a14d-938658ef92c7"
      },
      "source": [
        "deu_eng"
      ],
      "execution_count": null,
      "outputs": [
        {
          "output_type": "execute_result",
          "data": {
            "text/plain": [
              "array([['Go', 'Geh',\n",
              "        'CC-BY 2.0 (France) Attribution: tatoeba.org #2877272 (CM) & #8597805 (Roujin)'],\n",
              "       ['Hi', 'Hallo',\n",
              "        'CC-BY 2.0 (France) Attribution: tatoeba.org #538123 (CM) & #380701 (cburgmer)'],\n",
              "       ['Hi', 'Grüß Gott',\n",
              "        'CC-BY 2.0 (France) Attribution: tatoeba.org #538123 (CM) & #659813 (Esperantostern)'],\n",
              "       ...,\n",
              "       ['They come from Sweden', 'Sie kommen aus Schweden',\n",
              "        'CC-BY 2.0 (France) Attribution: tatoeba.org #622193 (CK) & #622244 (BraveSentry)'],\n",
              "       ['They could hardly see', 'Sie konnten kaum etwas sehen',\n",
              "        'CC-BY 2.0 (France) Attribution: tatoeba.org #306021 (CK) & #611800 (virgil)'],\n",
              "       ['They didnt choose me', 'Sie wählten mich nicht',\n",
              "        'CC-BY 2.0 (France) Attribution: tatoeba.org #5090802 (AlanF_US) & #5091265 (bonny37)']],\n",
              "      dtype='<U537')"
            ]
          },
          "metadata": {
            "tags": []
          },
          "execution_count": 8
        }
      ]
    },
    {
      "cell_type": "code",
      "metadata": {
        "id": "y_--3Eyjds7g"
      },
      "source": [
        "for i in range(len(deu_eng)):\n",
        "  deu_eng[i,0] = deu_eng[i,0].lower()\n",
        "  deu_eng[i,1] = deu_eng[i,1].lower()"
      ],
      "execution_count": null,
      "outputs": []
    },
    {
      "cell_type": "code",
      "metadata": {
        "id": "aDvK164ufcs2",
        "colab": {
          "base_uri": "https://localhost:8080/",
          "height": 141
        },
        "outputId": "554ec91c-ac65-43da-a3fb-fd84b0a4ef19"
      },
      "source": [
        "deu_eng[:,:2]"
      ],
      "execution_count": null,
      "outputs": [
        {
          "output_type": "execute_result",
          "data": {
            "text/plain": [
              "array([['go', 'geh'],\n",
              "       ['hi', 'hallo'],\n",
              "       ['hi', 'grüß gott'],\n",
              "       ...,\n",
              "       ['they come from sweden', 'sie kommen aus schweden'],\n",
              "       ['they could hardly see', 'sie konnten kaum etwas sehen'],\n",
              "       ['they didnt choose me', 'sie wählten mich nicht']], dtype='<U537')"
            ]
          },
          "metadata": {
            "tags": []
          },
          "execution_count": 10
        }
      ]
    },
    {
      "cell_type": "code",
      "metadata": {
        "id": "TTT3wJPHf7am"
      },
      "source": [
        "import matplotlib.pyplot as plt\n",
        "% matplotlib inline\n",
        "import pandas as pd"
      ],
      "execution_count": null,
      "outputs": []
    },
    {
      "cell_type": "code",
      "metadata": {
        "id": "kHrd_p7Xf-GX"
      },
      "source": [
        "eng_len = [len(s.split()) for s in deu_eng[:,0]]\n",
        "deu_len = [len(s.split()) for s in deu_eng[:,1]]\n",
        "#print(eng_len)"
      ],
      "execution_count": null,
      "outputs": []
    },
    {
      "cell_type": "code",
      "metadata": {
        "id": "GJfTDWFdhaf7",
        "colab": {
          "base_uri": "https://localhost:8080/",
          "height": 530
        },
        "outputId": "7bc07168-69a5-4d31-ea29-9a88f8c34caf"
      },
      "source": [
        "length_df = pd.DataFrame({'eng':eng_len, 'deu':deu_len})\n",
        "length_df.hist(bins=30)\n",
        "plt.show()\n",
        "print(length_df)"
      ],
      "execution_count": null,
      "outputs": [
        {
          "output_type": "display_data",
          "data": {
            "image/png": "[encoded data removed]",
            "text/plain": [
              "<Figure size 432x288 with 2 Axes>"
            ]
          },
          "metadata": {
            "tags": [],
            "needs_background": "light"
          }
        },
        {
          "output_type": "stream",
          "text": [
            "       eng  deu\n",
            "0        1    1\n",
            "1        1    1\n",
            "2        1    2\n",
            "3        1    1\n",
            "4        1    1\n",
            "...    ...  ...\n",
            "49995    5    7\n",
            "49996    4    5\n",
            "49997    4    4\n",
            "49998    4    5\n",
            "49999    4    4\n",
            "\n",
            "[50000 rows x 2 columns]\n"
          ],
          "name": "stdout"
        }
      ]
    },
    {
      "cell_type": "code",
      "metadata": {
        "id": "q6e26affh6e9",
        "colab": {
          "base_uri": "https://localhost:8080/",
          "height": 52
        },
        "outputId": "ae5e13f7-5e83-4754-ff4f-3c76c73ac97e"
      },
      "source": [
        "print(max(eng_len))\n",
        "print(max(deu_len))"
      ],
      "execution_count": null,
      "outputs": [
        {
          "output_type": "stream",
          "text": [
            "7\n",
            "15\n"
          ],
          "name": "stdout"
        }
      ]
    },
    {
      "cell_type": "code",
      "metadata": {
        "id": "AvghT2CNiLtM",
        "colab": {
          "base_uri": "https://localhost:8080/",
          "height": 35
        },
        "outputId": "fc4be9a7-ee76-47ca-9aea-712e99cd0d36"
      },
      "source": [
        "from keras.preprocessing.text import Tokenizer\n",
        "from keras.preprocessing.sequence import pad_sequences"
      ],
      "execution_count": null,
      "outputs": [
        {
          "output_type": "stream",
          "text": [
            "Using TensorFlow backend.\n"
          ],
          "name": "stderr"
        }
      ]
    },
    {
      "cell_type": "code",
      "metadata": {
        "id": "ILUG2qXGmSf9",
        "colab": {
          "base_uri": "https://localhost:8080/",
          "height": 35
        },
        "outputId": "a931dd08-9d99-41a2-d04c-c1972f784d99"
      },
      "source": [
        "eng_tokenizer = Tokenizer()\n",
        "eng_tokenizer.fit_on_texts(deu_eng[:,0])\n",
        "eng_vocab_size = len(eng_tokenizer.word_index) + 1\n",
        "print(eng_vocab_size)"
      ],
      "execution_count": null,
      "outputs": [
        {
          "output_type": "stream",
          "text": [
            "6295\n"
          ],
          "name": "stdout"
        }
      ]
    },
    {
      "cell_type": "code",
      "metadata": {
        "id": "JS2Fo4p4qMHc",
        "colab": {
          "base_uri": "https://localhost:8080/",
          "height": 35
        },
        "outputId": "1a7c1dbe-32a9-4de1-d4de-203a79390aa6"
      },
      "source": [
        "deu_tokenizer = Tokenizer()\n",
        "deu_tokenizer.fit_on_texts(deu_eng[:,1])\n",
        "deu_vocab_size = len(deu_tokenizer.word_index) + 1\n",
        "print(deu_vocab_size)"
      ],
      "execution_count": null,
      "outputs": [
        {
          "output_type": "stream",
          "text": [
            "10401\n"
          ],
          "name": "stdout"
        }
      ]
    },
    {
      "cell_type": "code",
      "metadata": {
        "id": "X64aIcKAq4--"
      },
      "source": [
        "eng_max_length = 8\n",
        "deu_max_length = 8"
      ],
      "execution_count": null,
      "outputs": []
    },
    {
      "cell_type": "code",
      "metadata": {
        "id": "22ZcOj1CvNgz"
      },
      "source": [
        "def encode_sequences(tokenizer, length, lines):\n",
        "  seq = tokenizer.texts_to_sequences(lines)\n",
        "  seq = pad_sequences(seq, maxlen=length, padding='post')\n",
        "  return seq"
      ],
      "execution_count": null,
      "outputs": []
    },
    {
      "cell_type": "code",
      "metadata": {
        "id": "tNbarBfbBaRy"
      },
      "source": [
        "from sklearn.model_selection import train_test_split\n",
        "\n",
        "train, test = train_test_split(deu_eng, test_size=0.2, random_state=12)\n"
      ],
      "execution_count": null,
      "outputs": []
    },
    {
      "cell_type": "code",
      "metadata": {
        "id": "DU0WUU-ABvBY",
        "colab": {
          "base_uri": "https://localhost:8080/",
          "height": 35
        },
        "outputId": "bd323d5a-a4ec-414c-dc57-cfb602b73a32"
      },
      "source": [
        "trainX = encode_sequences(deu_tokenizer,\n",
        "                          deu_max_length,\n",
        "                          train[:,1])\n",
        "\n",
        "trainY = encode_sequences(eng_tokenizer,\n",
        "                          eng_max_length,\n",
        "                          train[:,0])\n",
        "\n",
        "print(trainX.shape, trainY.shape)"
      ],
      "execution_count": null,
      "outputs": [
        {
          "output_type": "stream",
          "text": [
            "(40000, 8) (40000, 8)\n"
          ],
          "name": "stdout"
        }
      ]
    },
    {
      "cell_type": "code",
      "metadata": {
        "id": "rrRh0KV7CgXM",
        "colab": {
          "base_uri": "https://localhost:8080/",
          "height": 52
        },
        "outputId": "79446540-3887-4bd9-dda5-a227f9b2d5df"
      },
      "source": [
        "print(trainX[0])\n",
        "print(trainY[0])"
      ],
      "execution_count": null,
      "outputs": [
        {
          "output_type": "stream",
          "text": [
            "[  52 3602   42 1054    0    0    0    0]\n",
            "[ 59 774   7 164   0   0   0   0]\n"
          ],
          "name": "stdout"
        }
      ]
    },
    {
      "cell_type": "code",
      "metadata": {
        "id": "v8W3sD3PCygV",
        "colab": {
          "base_uri": "https://localhost:8080/",
          "height": 35
        },
        "outputId": "fae9bb5a-6787-40aa-bada-71cb202a90c7"
      },
      "source": [
        "testX = encode_sequences(deu_tokenizer,\n",
        "                          deu_max_length,\n",
        "                          test[:,1])\n",
        "\n",
        "testY = encode_sequences(eng_tokenizer,\n",
        "                          eng_max_length,\n",
        "                          test[:,0])\n",
        "\n",
        "print(testX.shape, testY.shape)"
      ],
      "execution_count": null,
      "outputs": [
        {
          "output_type": "stream",
          "text": [
            "(10000, 8) (10000, 8)\n"
          ],
          "name": "stdout"
        }
      ]
    },
    {
      "cell_type": "code",
      "metadata": {
        "id": "bpgb_uF5LqzQ"
      },
      "source": [
        "from keras.models import Sequential\n",
        "from keras.layers import Dense, LSTM, Embedding, RepeatVector\n",
        "from keras.callbacks import ModelCheckpoint\n",
        "from keras import optimizers"
      ],
      "execution_count": null,
      "outputs": []
    },
    {
      "cell_type": "code",
      "metadata": {
        "id": "8uWKw3SKMlG_"
      },
      "source": [
        "model = Sequential()\n",
        "model.add(Embedding(deu_vocab_size,\n",
        "                    512,\n",
        "                    input_length=deu_max_length,\n",
        "                    mask_zero=True))\n",
        "model.add(LSTM(512))  #thought vector\n",
        "model.add(RepeatVector(eng_max_length))\n",
        "model.add(LSTM(512,return_sequences=True)) # to get vector of all the wordss if it is false the only give output vector of last word\n",
        "model.add(Dense(eng_vocab_size, activation='softmax'))\n",
        "\n"
      ],
      "execution_count": null,
      "outputs": []
    },
    {
      "cell_type": "code",
      "metadata": {
        "id": "JJNQyJg9QzPn"
      },
      "source": [
        "rms = optimizers.RMSprop(lr=0.001)\n",
        "model.compile(optimizer=rms, \n",
        "              loss='sparse_categorical_crossentropy')"
      ],
      "execution_count": null,
      "outputs": []
    },
    {
      "cell_type": "code",
      "metadata": {
        "id": "aW_094DVRSvS"
      },
      "source": [
        "filename = 'model.h1.2020'\n",
        "checkpoint = ModelCheckpoint(filename,\n",
        "                             monitor='val_loss',\n",
        "                             mode='min',\n",
        "                             save_best_only=True,\n",
        "                             verbose=1)\n",
        "\n"
      ],
      "execution_count": null,
      "outputs": []
    },
    {
      "cell_type": "code",
      "metadata": {
        "id": "C_N8tylQR3uU",
        "colab": {
          "base_uri": "https://localhost:8080/",
          "height": 1000
        },
        "outputId": "c44061bb-a51b-4cba-9941-276feae443d4"
      },
      "source": [
        "history = model.fit(trainX, trainY.reshape(40000,8,1),\n",
        "                    epochs=30,\n",
        "                    batch_size=512,\n",
        "                    validation_split=0.2,\n",
        "                    callbacks=[checkpoint],\n",
        "                    verbose=1)"
      ],
      "execution_count": null,
      "outputs": [
        {
          "output_type": "stream",
          "text": [
            "/usr/local/lib/python3.6/dist-packages/tensorflow/python/framework/indexed_slices.py:434: UserWarning: Converting sparse IndexedSlices to a dense Tensor of unknown shape. This may consume a large amount of memory.\n",
            "  \"Converting sparse IndexedSlices to a dense Tensor of unknown shape. \"\n"
          ],
          "name": "stderr"
        },
        {
          "output_type": "stream",
          "text": [
            "Train on 32000 samples, validate on 8000 samples\n",
            "Epoch 1/30\n",
            "32000/32000 [==============================] - 13s 394us/step - loss: 3.4425 - val_loss: 2.8824\n",
            "\n",
            "Epoch 00001: val_loss improved from inf to 2.88243, saving model to model.h1.2020\n",
            "Epoch 2/30\n",
            "32000/32000 [==============================] - 10s 324us/step - loss: 2.7887 - val_loss: 2.7460\n",
            "\n",
            "Epoch 00002: val_loss improved from 2.88243 to 2.74597, saving model to model.h1.2020\n",
            "Epoch 3/30\n",
            "32000/32000 [==============================] - 10s 322us/step - loss: 2.6107 - val_loss: 2.6414\n",
            "\n",
            "Epoch 00003: val_loss improved from 2.74597 to 2.64142, saving model to model.h1.2020\n",
            "Epoch 4/30\n",
            "32000/32000 [==============================] - 10s 323us/step - loss: 2.4358 - val_loss: 2.4323\n",
            "\n",
            "Epoch 00004: val_loss improved from 2.64142 to 2.43230, saving model to model.h1.2020\n",
            "Epoch 5/30\n",
            "32000/32000 [==============================] - 10s 322us/step - loss: 2.2961 - val_loss: 2.3271\n",
            "\n",
            "Epoch 00005: val_loss improved from 2.43230 to 2.32706, saving model to model.h1.2020\n",
            "Epoch 6/30\n",
            "32000/32000 [==============================] - 10s 322us/step - loss: 2.1641 - val_loss: 2.2294\n",
            "\n",
            "Epoch 00006: val_loss improved from 2.32706 to 2.22941, saving model to model.h1.2020\n",
            "Epoch 7/30\n",
            "32000/32000 [==============================] - 10s 327us/step - loss: 2.0458 - val_loss: 2.1585\n",
            "\n",
            "Epoch 00007: val_loss improved from 2.22941 to 2.15845, saving model to model.h1.2020\n",
            "Epoch 8/30\n",
            "32000/32000 [==============================] - 10s 320us/step - loss: 1.9358 - val_loss: 2.0911\n",
            "\n",
            "Epoch 00008: val_loss improved from 2.15845 to 2.09108, saving model to model.h1.2020\n",
            "Epoch 9/30\n",
            "32000/32000 [==============================] - 10s 324us/step - loss: 1.8331 - val_loss: 2.0171\n",
            "\n",
            "Epoch 00009: val_loss improved from 2.09108 to 2.01714, saving model to model.h1.2020\n",
            "Epoch 10/30\n",
            "32000/32000 [==============================] - 10s 326us/step - loss: 1.7311 - val_loss: 1.9301\n",
            "\n",
            "Epoch 00010: val_loss improved from 2.01714 to 1.93009, saving model to model.h1.2020\n",
            "Epoch 11/30\n",
            "32000/32000 [==============================] - 10s 324us/step - loss: 1.6341 - val_loss: 1.8996\n",
            "\n",
            "Epoch 00011: val_loss improved from 1.93009 to 1.89956, saving model to model.h1.2020\n",
            "Epoch 12/30\n",
            "32000/32000 [==============================] - 10s 323us/step - loss: 1.5397 - val_loss: 1.8135\n",
            "\n",
            "Epoch 00012: val_loss improved from 1.89956 to 1.81352, saving model to model.h1.2020\n",
            "Epoch 13/30\n",
            "32000/32000 [==============================] - 10s 322us/step - loss: 1.4479 - val_loss: 1.7825\n",
            "\n",
            "Epoch 00013: val_loss improved from 1.81352 to 1.78253, saving model to model.h1.2020\n",
            "Epoch 14/30\n",
            "32000/32000 [==============================] - 10s 322us/step - loss: 1.3604 - val_loss: 1.7105\n",
            "\n",
            "Epoch 00014: val_loss improved from 1.78253 to 1.71053, saving model to model.h1.2020\n",
            "Epoch 15/30\n",
            "32000/32000 [==============================] - 10s 322us/step - loss: 1.2764 - val_loss: 1.6492\n",
            "\n",
            "Epoch 00015: val_loss improved from 1.71053 to 1.64919, saving model to model.h1.2020\n",
            "Epoch 16/30\n",
            "32000/32000 [==============================] - 10s 324us/step - loss: 1.1977 - val_loss: 1.6376\n",
            "\n",
            "Epoch 00016: val_loss improved from 1.64919 to 1.63755, saving model to model.h1.2020\n",
            "Epoch 17/30\n",
            "32000/32000 [==============================] - 10s 325us/step - loss: 1.1194 - val_loss: 1.5848\n",
            "\n",
            "Epoch 00017: val_loss improved from 1.63755 to 1.58479, saving model to model.h1.2020\n",
            "Epoch 18/30\n",
            "32000/32000 [==============================] - 10s 325us/step - loss: 1.0486 - val_loss: 1.5408\n",
            "\n",
            "Epoch 00018: val_loss improved from 1.58479 to 1.54084, saving model to model.h1.2020\n",
            "Epoch 19/30\n",
            "32000/32000 [==============================] - 10s 324us/step - loss: 0.9785 - val_loss: 1.5161\n",
            "\n",
            "Epoch 00019: val_loss improved from 1.54084 to 1.51610, saving model to model.h1.2020\n",
            "Epoch 20/30\n",
            "32000/32000 [==============================] - 10s 325us/step - loss: 0.9127 - val_loss: 1.4891\n",
            "\n",
            "Epoch 00020: val_loss improved from 1.51610 to 1.48915, saving model to model.h1.2020\n",
            "Epoch 21/30\n",
            "32000/32000 [==============================] - 10s 324us/step - loss: 0.8489 - val_loss: 1.4533\n",
            "\n",
            "Epoch 00021: val_loss improved from 1.48915 to 1.45333, saving model to model.h1.2020\n",
            "Epoch 22/30\n",
            "32000/32000 [==============================] - 11s 328us/step - loss: 0.7903 - val_loss: 1.4308\n",
            "\n",
            "Epoch 00022: val_loss improved from 1.45333 to 1.43083, saving model to model.h1.2020\n",
            "Epoch 23/30\n",
            "32000/32000 [==============================] - 10s 323us/step - loss: 0.7339 - val_loss: 1.4025\n",
            "\n",
            "Epoch 00023: val_loss improved from 1.43083 to 1.40249, saving model to model.h1.2020\n",
            "Epoch 24/30\n",
            "32000/32000 [==============================] - 10s 322us/step - loss: 0.6804 - val_loss: 1.3892\n",
            "\n",
            "Epoch 00024: val_loss improved from 1.40249 to 1.38924, saving model to model.h1.2020\n",
            "Epoch 25/30\n",
            "32000/32000 [==============================] - 10s 326us/step - loss: 0.6295 - val_loss: 1.3870\n",
            "\n",
            "Epoch 00025: val_loss improved from 1.38924 to 1.38704, saving model to model.h1.2020\n",
            "Epoch 26/30\n",
            "32000/32000 [==============================] - 10s 327us/step - loss: 0.5822 - val_loss: 1.3702\n",
            "\n",
            "Epoch 00026: val_loss improved from 1.38704 to 1.37023, saving model to model.h1.2020\n",
            "Epoch 27/30\n",
            "32000/32000 [==============================] - 10s 326us/step - loss: 0.5373 - val_loss: 1.3553\n",
            "\n",
            "Epoch 00027: val_loss improved from 1.37023 to 1.35534, saving model to model.h1.2020\n",
            "Epoch 28/30\n",
            "32000/32000 [==============================] - 10s 325us/step - loss: 0.4967 - val_loss: 1.3426\n",
            "\n",
            "Epoch 00028: val_loss improved from 1.35534 to 1.34260, saving model to model.h1.2020\n",
            "Epoch 29/30\n",
            "32000/32000 [==============================] - 10s 324us/step - loss: 0.4570 - val_loss: 1.3322\n",
            "\n",
            "Epoch 00029: val_loss improved from 1.34260 to 1.33216, saving model to model.h1.2020\n",
            "Epoch 30/30\n",
            "32000/32000 [==============================] - 10s 324us/step - loss: 0.4197 - val_loss: 1.3329\n",
            "\n",
            "Epoch 00030: val_loss did not improve from 1.33216\n"
          ],
          "name": "stdout"
        }
      ]
    },
    {
      "cell_type": "code",
      "metadata": {
        "id": "zrKYWY4CSV-f",
        "colab": {
          "base_uri": "https://localhost:8080/",
          "height": 265
        },
        "outputId": "157a6915-3fac-4668-ec5a-7781a7b1ad68"
      },
      "source": [
        "plt.plot(history.history['loss'])\n",
        "plt.plot(history.history['val_loss'])\n",
        "plt.legend(['train','validation'])\n",
        "plt.show()"
      ],
      "execution_count": null,
      "outputs": [
        {
          "output_type": "display_data",
          "data": {
            "image/png": "[encoded data removed]",
            "text/plain": [
              "<Figure size 432x288 with 1 Axes>"
            ]
          },
          "metadata": {
            "tags": [],
            "needs_background": "light"
          }
        }
      ]
    },
    {
      "cell_type": "code",
      "metadata": {
        "id": "jglq0_F7y6UH",
        "colab": {
          "base_uri": "https://localhost:8080/",
          "height": 72
        },
        "outputId": "190b4b05-d3e2-4ab5-c2a0-8316263c655f"
      },
      "source": [
        "from keras.models import load_model\n",
        "model = load_model(filename)\n",
        "preds = model.predict_classes(testX) #give the class with highest probability\n"
      ],
      "execution_count": null,
      "outputs": [
        {
          "output_type": "stream",
          "text": [
            "/usr/local/lib/python3.6/dist-packages/tensorflow/python/framework/indexed_slices.py:434: UserWarning: Converting sparse IndexedSlices to a dense Tensor of unknown shape. This may consume a large amount of memory.\n",
            "  \"Converting sparse IndexedSlices to a dense Tensor of unknown shape. \"\n"
          ],
          "name": "stderr"
        }
      ]
    },
    {
      "cell_type": "code",
      "metadata": {
        "id": "DT44S33Ty6JA"
      },
      "source": [
        "eng_dict = {t:w for w,t in eng_tokenizer.word_index.items()}\n"
      ],
      "execution_count": null,
      "outputs": []
    },
    {
      "cell_type": "code",
      "metadata": {
        "id": "CK4FrUY-y56p"
      },
      "source": [
        "eng_preds = []\n",
        "for p in preds:\n",
        "  sent = []\n",
        "  for t in p:\n",
        "    w = eng_dict.get(t) if t > 0 else \"\"\n",
        "    sent.append(w)\n",
        "  eng_preds.append(' '.join(sent))"
      ],
      "execution_count": null,
      "outputs": []
    },
    {
      "cell_type": "code",
      "metadata": {
        "id": "mZX9c82q1ttL",
        "colab": {
          "base_uri": "https://localhost:8080/",
          "height": 504
        },
        "outputId": "62aa82b2-5f33-4f97-bed5-1970b7ecf4e0"
      },
      "source": [
        "pred_df = pd.DataFrame({'actual':test[:,0], 'predicted':eng_preds})\n",
        "pred_df.head(15)"
      ],
      "execution_count": null,
      "outputs": [
        {
          "output_type": "execute_result",
          "data": {
            "text/html": [
              "<div>\n",
              "<style scoped>\n",
              "    .dataframe tbody tr th:only-of-type {\n",
              "        vertical-align: middle;\n",
              "    }\n",
              "\n",
              "    .dataframe tbody tr th {\n",
              "        vertical-align: top;\n",
              "    }\n",
              "\n",
              "    .dataframe thead th {\n",
              "        text-align: right;\n",
              "    }\n",
              "</style>\n",
              "<table border=\"1\" class=\"dataframe\">\n",
              "  <thead>\n",
              "    <tr style=\"text-align: right;\">\n",
              "      <th></th>\n",
              "      <th>actual</th>\n",
              "      <th>predicted</th>\n",
              "    </tr>\n",
              "  </thead>\n",
              "  <tbody>\n",
              "    <tr>\n",
              "      <th>0</th>\n",
              "      <td>it cannot last long</td>\n",
              "      <td>it cannot be long</td>\n",
              "    </tr>\n",
              "    <tr>\n",
              "      <th>1</th>\n",
              "      <td>am i right</td>\n",
              "      <td>i quite right</td>\n",
              "    </tr>\n",
              "    <tr>\n",
              "      <th>2</th>\n",
              "      <td>guess who i am</td>\n",
              "      <td>what who i</td>\n",
              "    </tr>\n",
              "    <tr>\n",
              "      <th>3</th>\n",
              "      <td>were in town</td>\n",
              "      <td>were in the</td>\n",
              "    </tr>\n",
              "    <tr>\n",
              "      <th>4</th>\n",
              "      <td>tom runs the fastest</td>\n",
              "      <td>tom is making</td>\n",
              "    </tr>\n",
              "    <tr>\n",
              "      <th>5</th>\n",
              "      <td>i will vouch for him</td>\n",
              "      <td>ill get him him him</td>\n",
              "    </tr>\n",
              "    <tr>\n",
              "      <th>6</th>\n",
              "      <td>can i spend the night</td>\n",
              "      <td>can i order in</td>\n",
              "    </tr>\n",
              "    <tr>\n",
              "      <th>7</th>\n",
              "      <td>please write it down</td>\n",
              "      <td>please to for</td>\n",
              "    </tr>\n",
              "    <tr>\n",
              "      <th>8</th>\n",
              "      <td>the water is hot</td>\n",
              "      <td>the water is hot</td>\n",
              "    </tr>\n",
              "    <tr>\n",
              "      <th>9</th>\n",
              "      <td>they always complain</td>\n",
              "      <td>youre always always</td>\n",
              "    </tr>\n",
              "    <tr>\n",
              "      <th>10</th>\n",
              "      <td>lock the door</td>\n",
              "      <td>lock the door</td>\n",
              "    </tr>\n",
              "    <tr>\n",
              "      <th>11</th>\n",
              "      <td>its great</td>\n",
              "      <td>its great</td>\n",
              "    </tr>\n",
              "    <tr>\n",
              "      <th>12</th>\n",
              "      <td>i hope we win</td>\n",
              "      <td>i hope you win</td>\n",
              "    </tr>\n",
              "    <tr>\n",
              "      <th>13</th>\n",
              "      <td>i can do more</td>\n",
              "      <td>i can read more</td>\n",
              "    </tr>\n",
              "    <tr>\n",
              "      <th>14</th>\n",
              "      <td>anyone can do it</td>\n",
              "      <td>anyone can understand</td>\n",
              "    </tr>\n",
              "  </tbody>\n",
              "</table>\n",
              "</div>"
            ],
            "text/plain": [
              "                   actual                   predicted\n",
              "0     it cannot last long       it cannot be long    \n",
              "1              am i right          i quite right     \n",
              "2          guess who i am             what who i     \n",
              "3            were in town            were in the     \n",
              "4    tom runs the fastest          tom is making     \n",
              "5    i will vouch for him      ill get him him him   \n",
              "6   can i spend the night          can i order in    \n",
              "7    please write it down          please to for     \n",
              "8        the water is hot        the water is hot    \n",
              "9    they always complain    youre always always     \n",
              "10          lock the door          lock the door     \n",
              "11              its great             its great      \n",
              "12          i hope we win          i hope you win    \n",
              "13          i can do more         i can read more    \n",
              "14       anyone can do it  anyone can understand     "
            ]
          },
          "metadata": {
            "tags": []
          },
          "execution_count": 33
        }
      ]
    },
    {
      "cell_type": "code",
      "metadata": {
        "id": "9uL-1Tdu8QNb",
        "colab": {
          "base_uri": "https://localhost:8080/",
          "height": 504
        },
        "outputId": "a8118349-03fb-4f88-ef0c-8dc43009be23"
      },
      "source": [
        "pred_df.sample(15)"
      ],
      "execution_count": null,
      "outputs": [
        {
          "output_type": "execute_result",
          "data": {
            "text/html": [
              "<div>\n",
              "<style scoped>\n",
              "    .dataframe tbody tr th:only-of-type {\n",
              "        vertical-align: middle;\n",
              "    }\n",
              "\n",
              "    .dataframe tbody tr th {\n",
              "        vertical-align: top;\n",
              "    }\n",
              "\n",
              "    .dataframe thead th {\n",
              "        text-align: right;\n",
              "    }\n",
              "</style>\n",
              "<table border=\"1\" class=\"dataframe\">\n",
              "  <thead>\n",
              "    <tr style=\"text-align: right;\">\n",
              "      <th></th>\n",
              "      <th>actual</th>\n",
              "      <th>predicted</th>\n",
              "    </tr>\n",
              "  </thead>\n",
              "  <tbody>\n",
              "    <tr>\n",
              "      <th>4429</th>\n",
              "      <td>did tom contact you</td>\n",
              "      <td>did tom contact mary</td>\n",
              "    </tr>\n",
              "    <tr>\n",
              "      <th>2150</th>\n",
              "      <td>look at the next page</td>\n",
              "      <td>look on next</td>\n",
              "    </tr>\n",
              "    <tr>\n",
              "      <th>8094</th>\n",
              "      <td>nuclear power is safe</td>\n",
              "      <td>thats is ready</td>\n",
              "    </tr>\n",
              "    <tr>\n",
              "      <th>5042</th>\n",
              "      <td>the baby is sleeping</td>\n",
              "      <td>the baby is</td>\n",
              "    </tr>\n",
              "    <tr>\n",
              "      <th>3448</th>\n",
              "      <td>was tom right</td>\n",
              "      <td>was tom right right</td>\n",
              "    </tr>\n",
              "    <tr>\n",
              "      <th>5174</th>\n",
              "      <td>im a little busy</td>\n",
              "      <td>im a little</td>\n",
              "    </tr>\n",
              "    <tr>\n",
              "      <th>2939</th>\n",
              "      <td>baking is fun</td>\n",
              "      <td>do you fun tennis</td>\n",
              "    </tr>\n",
              "    <tr>\n",
              "      <th>2503</th>\n",
              "      <td>you can stay with us</td>\n",
              "      <td>you can stay with us</td>\n",
              "    </tr>\n",
              "    <tr>\n",
              "      <th>9338</th>\n",
              "      <td>were in a hurry</td>\n",
              "      <td>were in in hurry</td>\n",
              "    </tr>\n",
              "    <tr>\n",
              "      <th>9638</th>\n",
              "      <td>we got married</td>\n",
              "      <td>we traveled together</td>\n",
              "    </tr>\n",
              "    <tr>\n",
              "      <th>5721</th>\n",
              "      <td>enjoy your evening</td>\n",
              "      <td>enjoy your your you</td>\n",
              "    </tr>\n",
              "    <tr>\n",
              "      <th>868</th>\n",
              "      <td>youre introverted</td>\n",
              "      <td>youre introverted</td>\n",
              "    </tr>\n",
              "    <tr>\n",
              "      <th>6235</th>\n",
              "      <td>get on your knees</td>\n",
              "      <td>put your your on</td>\n",
              "    </tr>\n",
              "    <tr>\n",
              "      <th>5304</th>\n",
              "      <td>he is small and weak</td>\n",
              "      <td>hes is big man</td>\n",
              "    </tr>\n",
              "    <tr>\n",
              "      <th>5865</th>\n",
              "      <td>i love this one</td>\n",
              "      <td>i love that</td>\n",
              "    </tr>\n",
              "  </tbody>\n",
              "</table>\n",
              "</div>"
            ],
            "text/plain": [
              "                     actual                  predicted\n",
              "4429    did tom contact you   did tom contact mary    \n",
              "2150  look at the next page          look on next     \n",
              "8094  nuclear power is safe        thats is ready     \n",
              "5042   the baby is sleeping           the baby is     \n",
              "3448          was tom right    was tom right right    \n",
              "5174       im a little busy           im a little     \n",
              "2939          baking is fun      do you fun tennis    \n",
              "2503   you can stay with us    you can stay with us   \n",
              "9338        were in a hurry       were in in hurry    \n",
              "9638         we got married  we traveled together     \n",
              "5721     enjoy your evening    enjoy your your you    \n",
              "868       youre introverted    youre introverted      \n",
              "6235      get on your knees       put your your on    \n",
              "5304   he is small and weak         hes is big man    \n",
              "5865        i love this one           i love that     "
            ]
          },
          "metadata": {
            "tags": []
          },
          "execution_count": 34
        }
      ]
    },
    {
      "cell_type": "code",
      "metadata": {
        "id": "X3_Uqm8q9NLA"
      },
      "source": [
        ""
      ],
      "execution_count": null,
      "outputs": []
    }
  ]
}